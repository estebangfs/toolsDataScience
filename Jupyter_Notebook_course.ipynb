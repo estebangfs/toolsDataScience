{
 "cells": [
  {
   "cell_type": "markdown",
   "id": "64244824-0a49-44b8-87df-8ccabc96bdee",
   "metadata": {},
   "source": [
    "# My Jupyter Notebook on IBM Watson Studio"
   ]
  },
  {
   "cell_type": "markdown",
   "id": "002fcb4b-5ec0-4dfb-b6ca-4b6b681c3e57",
   "metadata": {},
   "source": [
    "**Esteban** <br> Data Scientist"
   ]
  },
  {
   "cell_type": "markdown",
   "id": "9fe696f0-d5ab-47d2-aa78-41af651090df",
   "metadata": {},
   "source": [
    "*I am interested in data science because I've got a curious mind and I am convinced data is keeping our world spinning so it itself is a valuable tool a lot of issues could be solved with.*"
   ]
  },
  {
   "cell_type": "markdown",
   "id": "3802f687-433e-47c3-9ee8-7c55b13bfa07",
   "metadata": {},
   "source": [
    "### Code in Cell 5 is supposed to divide 16 by 4"
   ]
  },
  {
   "cell_type": "code",
   "execution_count": 1,
   "id": "6cfa0761-3195-43b4-a525-636af8b73be8",
   "metadata": {},
   "outputs": [
    {
     "data": {
      "text/plain": [
       "4.0"
      ]
     },
     "execution_count": 1,
     "metadata": {},
     "output_type": "execute_result"
    }
   ],
   "source": [
    "16/4"
   ]
  },
  {
   "cell_type": "markdown",
   "id": "f80c7bfa-c942-4ccb-b9d0-b6907ae1aa90",
   "metadata": {},
   "source": [
    "***\n",
    "Table 1. A table in my Jupyter Notebook as part of my data science curse on <a href=\"https://coursera.org\">Coursera</a>.\n",
    "***\n",
    "| Id. | Course | Hours  \n",
    "| ------ | ------ | ------ |\n",
    "| 1 | Tools for Data Science | 20"
   ]
  }
 ],
 "metadata": {
  "kernelspec": {
   "display_name": "Python",
   "language": "python",
   "name": "conda-env-python-py"
  },
  "language_info": {
   "codemirror_mode": {
    "name": "ipython",
    "version": 3
   },
   "file_extension": ".py",
   "mimetype": "text/x-python",
   "name": "python",
   "nbconvert_exporter": "python",
   "pygments_lexer": "ipython3",
   "version": "3.7.12"
  }
 },
 "nbformat": 4,
 "nbformat_minor": 5
}
